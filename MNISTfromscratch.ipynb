{
  "nbformat": 4,
  "nbformat_minor": 0,
  "metadata": {
    "colab": {
      "name": "MNISTfromscratch.ipynb",
      "provenance": [],
      "authorship_tag": "ABX9TyNDwPxN4x0QBVGiih40lv+p",
      "include_colab_link": true
    },
    "kernelspec": {
      "name": "python3",
      "display_name": "Python 3"
    },
    "language_info": {
      "name": "python"
    }
  },
  "cells": [
    {
      "cell_type": "markdown",
      "metadata": {
        "id": "view-in-github",
        "colab_type": "text"
      },
      "source": [
        "<a href=\"https://colab.research.google.com/github/kb107/MNIST-Handwritten-Digit-Recogniser/blob/main/MNISTfromscratch.ipynb\" target=\"_parent\"><img src=\"https://colab.research.google.com/assets/colab-badge.svg\" alt=\"Open In Colab\"/></a>"
      ]
    },
    {
      "cell_type": "markdown",
      "metadata": {
        "id": "5Mb3XycGrM-h"
      },
      "source": [
        "# **Handwritten Digit Recogniser**\n",
        "#### MNIST (\"Modified National Institute of Standards and Technology\") is the de facto “hello world” dataset of computer vision. Since its release in 1999, this classic dataset of handwritten images has served as the basis for benchmarking classification algorithms.\n",
        "#### A small introduction to the dataset for people who are unfamiliar: The MNIST dataset consists of 70000 images of handwritten digits from 0-9, with each image being of dimension 28 x 28 pixels.\n",
        "#### The primary goal is to create a Machine Learning model which is able to provide a satisfactory prediction accuracy on the dataset. For this purpose, a Neural Network was the best choice due to its proficiency at learning non-linear relationships in data. \n",
        "#### The entire Neural Network model has been built from scratch using the Python numpy library. \n",
        "### **Brief Description of the Neural Network:**\n",
        "#### The NN that is being designed has 4 distinct layers out of which 2 are hidden layers. The first layer has 784 nodes each containing a pixel value of the image. The 2nd layer has 128 nodes, the 3rd node has 64 nodes and the last layer(the output layer) has 10 nodes, each providing the probability of the input image belonging to a particular digit class."
      ]
    },
    {
      "cell_type": "code",
      "metadata": {
        "id": "7IFdfH9SlY1U"
      },
      "source": [
        "import numpy as np \n",
        "import sklearn \n",
        "import keras\n",
        "import pickle\n",
        "import cv2\n",
        "import matplotlib.pyplot as plt\n",
        "%matplotlib inline"
      ],
      "execution_count": 84,
      "outputs": []
    },
    {
      "cell_type": "markdown",
      "metadata": {
        "id": "E8yK4YPgvFad"
      },
      "source": [
        "### Importing the Dataset"
      ]
    },
    {
      "cell_type": "code",
      "metadata": {
        "id": "L0_fgGwIlfc6"
      },
      "source": [
        "from sklearn.datasets import fetch_openml\n",
        "from keras.utils.np_utils import to_categorical\n",
        "\n",
        "X, y = fetch_openml('mnist_784', version=1, return_X_y=True)\n",
        "y = to_categorical(y)\n",
        "X = (X/255).astype(np.float32)"
      ],
      "execution_count": 37,
      "outputs": []
    },
    {
      "cell_type": "markdown",
      "metadata": {
        "id": "WMqYHbohvJ_i"
      },
      "source": [
        "### Splitting the Dataset into a training set and test set"
      ]
    },
    {
      "cell_type": "code",
      "metadata": {
        "id": "EjcsIrfTltb3"
      },
      "source": [
        "from sklearn.model_selection import train_test_split\n",
        "\n",
        "X_train, X_test, y_train, y_test = train_test_split(X, y, test_size=0.2, random_state=42)"
      ],
      "execution_count": 38,
      "outputs": []
    },
    {
      "cell_type": "markdown",
      "metadata": {
        "id": "k-x0TM0hvcF6"
      },
      "source": [
        "### Setting the number of nodes in each layer"
      ]
    },
    {
      "cell_type": "code",
      "metadata": {
        "id": "3fUVW-Bfokbi"
      },
      "source": [
        "size = [784, 128, 64, 10]"
      ],
      "execution_count": 39,
      "outputs": []
    },
    {
      "cell_type": "markdown",
      "metadata": {
        "id": "ffdeUh1uvnuH"
      },
      "source": [
        "### Initialising the parameters of the NN"
      ]
    },
    {
      "cell_type": "code",
      "metadata": {
        "id": "uiqCU4aOoqBN"
      },
      "source": [
        "from numpy.random import randn\n",
        "\n",
        "params = { 'w1' : randn(size[1], size[0]) / np.sqrt(size[0]),\n",
        "           'b1' : randn(size[1], 1) / np.sqrt(size[0]),\n",
        "           'w2' : randn(size[2], size[1]) / np.sqrt(size[1]),\n",
        "           'b2' : randn(size[2], 1) / np.sqrt(size[1]),\n",
        "           'w3' : randn(size[3], size[2]) / np.sqrt(size[2]),\n",
        "           'b3' : randn(size[3], 1) / np.sqrt(size[2])}\n",
        "cache = {}\n",
        "gradient = {}\n",
        "alpha = 0.001\n",
        "epochs = 10"
      ],
      "execution_count": 40,
      "outputs": []
    },
    {
      "cell_type": "code",
      "metadata": {
        "id": "ryaNrGKkosdm"
      },
      "source": [
        "def sigmoid(z, derivative=False):\n",
        "    sig = 1 / (1 + np.exp(-z))\n",
        "    if derivative:\n",
        "        return sig * (1 - sig)\n",
        "    else: \n",
        "        return sig"
      ],
      "execution_count": 41,
      "outputs": []
    },
    {
      "cell_type": "markdown",
      "metadata": {
        "id": "7wp_-DjpvwYV"
      },
      "source": [
        "### Since we desire the output of the NN to be relative probabilities of the image belonging to different digit categories, we define the softmax function to achieve the same. The subtraction of ```z.max()``` in the first step is to prevent overflows associated with large exponentials."
      ]
    },
    {
      "cell_type": "code",
      "metadata": {
        "id": "BKY8JOf0owX2"
      },
      "source": [
        "def softmax(z, derivative=False):\n",
        "    prob = np.exp(z - z.max())\n",
        "    prob = prob / np.sum(prob)\n",
        "    if derivative:\n",
        "        return prob * (1 - prob)\n",
        "    else:\n",
        "        return prob"
      ],
      "execution_count": 307,
      "outputs": []
    },
    {
      "cell_type": "markdown",
      "metadata": {
        "id": "l-cb0R24wsv6"
      },
      "source": [
        "### Function to perform Forward Propagation"
      ]
    },
    {
      "cell_type": "code",
      "metadata": {
        "id": "wdjZnK60o0nU"
      },
      "source": [
        "def forward_prop(x):\n",
        "    global params, cache\n",
        "    cache['a0'] = x\n",
        "    cache['z1'] = np.dot(params['w1'], cache['a0']) + params['b1']\n",
        "    cache['a1'] = sigmoid(cache['z1'])\n",
        "    cache['z2'] = np.dot(params['w2'], cache['a1']) + params['b2']\n",
        "    cache['a2'] = sigmoid(cache['z2'])\n",
        "    cache['z3'] = np.dot(params['w3'], cache['a2']) + params['b3']\n",
        "    cache['o'] = softmax(cache['z3'])"
      ],
      "execution_count": 43,
      "outputs": []
    },
    {
      "cell_type": "markdown",
      "metadata": {
        "id": "ZqmFvb24w6Xe"
      },
      "source": [
        "### Function to perform Backward Propagation"
      ]
    },
    {
      "cell_type": "code",
      "metadata": {
        "id": "hTXKWyrno3RP"
      },
      "source": [
        "def backward_prop(y):\n",
        "    global params, cache, gradient\n",
        "    cache['del3'] = (cache['o']-y) * softmax(cache['z3'], derivative=True)\n",
        "    cache['del2'] = np.dot(params['w3'].T, cache['del3']) * sigmoid(cache['z2'], derivative=True)\n",
        "    cache['del1'] = np.dot(params['w2'].T, cache['del2']) * sigmoid(cache['z1'], derivative=True)\n",
        "\n",
        "    gradient['w3'] = np.dot(cache['del3'], cache['a2'].T)\n",
        "    gradient['b3'] = cache['del3']\n",
        "    gradient['w2'] = np.dot(cache['del2'], cache['a1'].T)\n",
        "    gradient['b2'] = cache['del2']\n",
        "    gradient['w1'] = np.dot(cache['del1'], cache['a0'].T)\n",
        "    gradient['b1'] = cache['del1']"
      ],
      "execution_count": 44,
      "outputs": []
    },
    {
      "cell_type": "markdown",
      "metadata": {
        "id": "0jcxeBTrw_oE"
      },
      "source": [
        "### Function to perform Stochastic Gradient Descent"
      ]
    },
    {
      "cell_type": "code",
      "metadata": {
        "id": "1KS_gA8WsJzb"
      },
      "source": [
        "def gradient_descent(alpha):\n",
        "  global params, gradient\n",
        "  params['w3'] -= alpha * gradient['w3']\n",
        "  params['w2'] -= alpha * gradient['w2']\n",
        "  params['w1'] -= alpha * gradient['w1']\n",
        "  params['b3'] -= alpha * gradient['b3']\n",
        "  params['b2'] -= alpha * gradient['b2']\n",
        "  params['b1'] -= alpha * gradient['b1']"
      ],
      "execution_count": 45,
      "outputs": []
    },
    {
      "cell_type": "markdown",
      "metadata": {
        "id": "HvtESpnuxKJE"
      },
      "source": [
        "### Function to train the NN"
      ]
    },
    {
      "cell_type": "code",
      "metadata": {
        "id": "jdQ2KoO9o-Oc"
      },
      "source": [
        "def train(X_train, y_train, epochs, alpha):\n",
        "  n = len(X_train)\n",
        "  for i in range(epochs):\n",
        "    for j in range(n):\n",
        "      if j == 0 or j == 27999 or j == 55999:\n",
        "        print(i+1, ':', j+1) \n",
        "      x = np.array([X_train[j]])\n",
        "      x = x.reshape(784,1)\n",
        "      y = np.array([y_train[j]])\n",
        "      y = y.reshape(10,1)\n",
        "      forward_prop(x)\n",
        "      backward_prop(y)\n",
        "      gradient_descent(alpha)"
      ],
      "execution_count": 59,
      "outputs": []
    },
    {
      "cell_type": "code",
      "metadata": {
        "colab": {
          "base_uri": "https://localhost:8080/"
        },
        "id": "MdsbZIrMpKGT",
        "outputId": "2ddfebfb-bbf5-4886-c7bc-0b39609f2ebb"
      },
      "source": [
        "train(X_train, y_train, epochs=1, alpha=0.01)"
      ],
      "execution_count": 72,
      "outputs": [
        {
          "output_type": "stream",
          "text": [
            "1 : 1\n",
            "1 : 28000\n",
            "1 : 56000\n"
          ],
          "name": "stdout"
        }
      ]
    },
    {
      "cell_type": "markdown",
      "metadata": {
        "id": "w5YZ2Quhxnvm"
      },
      "source": [
        "#### The output shown above is a bit misleading since the NN was not trained for merely 1 epoch. The NN was trained intially for 30 epochs which achieved a prediction accuracy of 94.5% on the training set. Following this it was trained for 8 epochs while also checking the prediction accuracy after each epoch to prevent overfitting. Following the 38 epochs it achieved a prediction accuracy of 94.8857% on the training set which fell to 94.87% after the 39th epoch thus signifying overfitting and hence the training process was stopped. "
      ]
    },
    {
      "cell_type": "markdown",
      "metadata": {
        "id": "V-jR1JdGzVjj"
      },
      "source": [
        "### Function to calculate prediction accuracy"
      ]
    },
    {
      "cell_type": "code",
      "metadata": {
        "id": "bJmKmP_j5SYM"
      },
      "source": [
        "def pred_accuracy(X_train, y_train):\n",
        "  pred_acc = []\n",
        "  n = len(X_train)\n",
        "  for j in range(n):\n",
        "    if j == 0 or j == 5000 or j == 13999:\n",
        "      print(j+1)\n",
        "    x = np.array([X_train[j]])\n",
        "    x = x.reshape(784,1)\n",
        "    y = np.array([y_train[j]])\n",
        "    y = y.reshape(10,1)\n",
        "    forward_prop(x)\n",
        "    pred = np.argmax(cache['o'])\n",
        "    pred_acc.append(pred == np.argmax(y))\n",
        "  return np.mean(pred_acc)\n"
      ],
      "execution_count": 65,
      "outputs": []
    },
    {
      "cell_type": "code",
      "metadata": {
        "colab": {
          "base_uri": "https://localhost:8080/"
        },
        "id": "TvZRpvCj7rsG",
        "outputId": "56d02b93-54b1-414b-ee38-99f92c378a2b"
      },
      "source": [
        "acc = pred_accuracy(X_test, y_test)\n",
        "print('Accuracy on test set: ', acc)"
      ],
      "execution_count": 155,
      "outputs": [
        {
          "output_type": "stream",
          "text": [
            "1\n",
            "5001\n",
            "14000\n",
            "Accuracy on test set:  0.9487857142857142\n"
          ],
          "name": "stdout"
        }
      ]
    },
    {
      "cell_type": "markdown",
      "metadata": {
        "id": "RBf1jc1fzekA"
      },
      "source": [
        "#### The above cell shows the prediction accuracy after 39 epochs."
      ]
    },
    {
      "cell_type": "markdown",
      "metadata": {
        "id": "gkAriQqAzxXm"
      },
      "source": [
        "### Saving the NN parameters for future predictions"
      ]
    },
    {
      "cell_type": "code",
      "metadata": {
        "id": "Sm-uEidOJpvW"
      },
      "source": [
        "file = open('mnist_model.pkl', 'wb')\n",
        "pickle.dump(params, file)\n",
        "file.close()"
      ],
      "execution_count": 79,
      "outputs": []
    },
    {
      "cell_type": "markdown",
      "metadata": {
        "id": "zHizaNnqz63p"
      },
      "source": [
        "### Function to predict the digit on an image using the NN parameters"
      ]
    },
    {
      "cell_type": "code",
      "metadata": {
        "id": "O4MRLbbzSqjh"
      },
      "source": [
        "def predict_num(img):\n",
        "  x = (img.flatten() / 255).astype(np.float32)\n",
        "  x = np.array([x])\n",
        "  x = x.T\n",
        "  forward_prop(x)\n",
        "  pred = np.argmax(cache['o'])\n",
        "  print('Model Prediction: ', pred)\n"
      ],
      "execution_count": 303,
      "outputs": []
    },
    {
      "cell_type": "markdown",
      "metadata": {
        "id": "qW5KZqwM0FW7"
      },
      "source": [
        "### **Some successful predictions:**"
      ]
    },
    {
      "cell_type": "code",
      "metadata": {
        "colab": {
          "base_uri": "https://localhost:8080/",
          "height": 282
        },
        "id": "6D1EC2fhKdgI",
        "outputId": "6d73cd0b-e412-4c2c-e38f-c8010d117baf"
      },
      "source": [
        "img = cv2.imread('num1.jpg', 0)\n",
        "img = cv2.resize(img, (28, 28))\n",
        "ret, img = cv2.threshold(img, thresh=120, maxval=255, type=cv2.THRESH_BINARY_INV)\n",
        "plt.imshow(img, cmap='gray')"
      ],
      "execution_count": 309,
      "outputs": [
        {
          "output_type": "execute_result",
          "data": {
            "text/plain": [
              "<matplotlib.image.AxesImage at 0x7ff1ed8bad50>"
            ]
          },
          "metadata": {
            "tags": []
          },
          "execution_count": 309
        },
        {
          "output_type": "display_data",
          "data": {
            "image/png": "[encoded data removed]",
            "text/plain": [
              "<Figure size 432x288 with 1 Axes>"
            ]
          },
          "metadata": {
            "tags": [],
            "needs_background": "light"
          }
        }
      ]
    },
    {
      "cell_type": "code",
      "metadata": {
        "colab": {
          "base_uri": "https://localhost:8080/"
        },
        "id": "PZJLF1eiTXU1",
        "outputId": "e8575ccc-379e-4452-d837-8c8d8792468c"
      },
      "source": [
        "predict_num(img)"
      ],
      "execution_count": 310,
      "outputs": [
        {
          "output_type": "stream",
          "text": [
            "Model Prediction:  1\n"
          ],
          "name": "stdout"
        }
      ]
    },
    {
      "cell_type": "code",
      "metadata": {
        "colab": {
          "base_uri": "https://localhost:8080/",
          "height": 282
        },
        "id": "pdzRcO-d00oG",
        "outputId": "0a96f627-3489-4ec0-b058-6dd5250d0d97"
      },
      "source": [
        "img = cv2.imread('num2.jpg', 0)\n",
        "img = cv2.resize(img, (28, 28))\n",
        "ret, img = cv2.threshold(img, thresh=120, maxval=255, type=cv2.THRESH_BINARY_INV)\n",
        "plt.imshow(img, cmap='gray')"
      ],
      "execution_count": 311,
      "outputs": [
        {
          "output_type": "execute_result",
          "data": {
            "text/plain": [
              "<matplotlib.image.AxesImage at 0x7ff1ed820990>"
            ]
          },
          "metadata": {
            "tags": []
          },
          "execution_count": 311
        },
        {
          "output_type": "display_data",
          "data": {
            "image/png": "[encoded data removed]",
            "text/plain": [
              "<Figure size 432x288 with 1 Axes>"
            ]
          },
          "metadata": {
            "tags": [],
            "needs_background": "light"
          }
        }
      ]
    },
    {
      "cell_type": "code",
      "metadata": {
        "colab": {
          "base_uri": "https://localhost:8080/"
        },
        "id": "VaKmNZgV0-uE",
        "outputId": "72bc9ed5-b009-4efc-8198-b112cd0e6f18"
      },
      "source": [
        "predict_num(img)"
      ],
      "execution_count": 312,
      "outputs": [
        {
          "output_type": "stream",
          "text": [
            "Model Prediction:  2\n"
          ],
          "name": "stdout"
        }
      ]
    },
    {
      "cell_type": "code",
      "metadata": {
        "colab": {
          "base_uri": "https://localhost:8080/",
          "height": 282
        },
        "id": "B9LFcZVF1BID",
        "outputId": "ffa18349-2625-4ddd-fa77-232b0a8b3010"
      },
      "source": [
        "img = cv2.imread('num3.jpg', 0)\n",
        "img = cv2.resize(img, (28, 28))\n",
        "ret, img = cv2.threshold(img, thresh=115, maxval=255, type=cv2.THRESH_BINARY_INV)\n",
        "plt.imshow(img, cmap='gray')"
      ],
      "execution_count": 314,
      "outputs": [
        {
          "output_type": "execute_result",
          "data": {
            "text/plain": [
              "<matplotlib.image.AxesImage at 0x7ff1ed777190>"
            ]
          },
          "metadata": {
            "tags": []
          },
          "execution_count": 314
        },
        {
          "output_type": "display_data",
          "data": {
            "image/png": "[encoded data removed]",
            "text/plain": [
              "<Figure size 432x288 with 1 Axes>"
            ]
          },
          "metadata": {
            "tags": [],
            "needs_background": "light"
          }
        }
      ]
    },
    {
      "cell_type": "code",
      "metadata": {
        "colab": {
          "base_uri": "https://localhost:8080/"
        },
        "id": "EPWsZq131FHT",
        "outputId": "2dfac512-f235-4e1a-c591-7fe265026dcf"
      },
      "source": [
        "predict_num(img)"
      ],
      "execution_count": 315,
      "outputs": [
        {
          "output_type": "stream",
          "text": [
            "Model Prediction:  3\n"
          ],
          "name": "stdout"
        }
      ]
    },
    {
      "cell_type": "code",
      "metadata": {
        "colab": {
          "base_uri": "https://localhost:8080/",
          "height": 282
        },
        "id": "GCeVY6ai1KNS",
        "outputId": "556bf441-d9ce-4015-e6d9-62f714f30fb3"
      },
      "source": [
        "img = cv2.imread('num4.jpg', 0)\n",
        "img = cv2.resize(img, (28, 28))\n",
        "ret, img = cv2.threshold(img, thresh=120, maxval=255, type=cv2.THRESH_BINARY_INV)\n",
        "plt.imshow(img, cmap='gray')"
      ],
      "execution_count": 316,
      "outputs": [
        {
          "output_type": "execute_result",
          "data": {
            "text/plain": [
              "<matplotlib.image.AxesImage at 0x7ff1ed6d8b50>"
            ]
          },
          "metadata": {
            "tags": []
          },
          "execution_count": 316
        },
        {
          "output_type": "display_data",
          "data": {
            "image/png": "[encoded data removed]",
            "text/plain": [
              "<Figure size 432x288 with 1 Axes>"
            ]
          },
          "metadata": {
            "tags": [],
            "needs_background": "light"
          }
        }
      ]
    },
    {
      "cell_type": "code",
      "metadata": {
        "colab": {
          "base_uri": "https://localhost:8080/"
        },
        "id": "gwf1vfU21cGD",
        "outputId": "24342170-f1a8-4587-b0b6-69bacfc09bd0"
      },
      "source": [
        "predict_num(img)"
      ],
      "execution_count": 317,
      "outputs": [
        {
          "output_type": "stream",
          "text": [
            "Model Prediction:  4\n"
          ],
          "name": "stdout"
        }
      ]
    },
    {
      "cell_type": "code",
      "metadata": {
        "colab": {
          "base_uri": "https://localhost:8080/",
          "height": 282
        },
        "id": "1xoWhoBQ1g4y",
        "outputId": "f467a586-bebd-4bd6-cc1f-e16c0713f4ea"
      },
      "source": [
        "img = cv2.imread('num5.jpg', 0)\n",
        "img = cv2.resize(img, (28, 28))\n",
        "ret, img = cv2.threshold(img, thresh=120, maxval=255, type=cv2.THRESH_BINARY_INV)\n",
        "plt.imshow(img, cmap='gray')"
      ],
      "execution_count": 318,
      "outputs": [
        {
          "output_type": "execute_result",
          "data": {
            "text/plain": [
              "<matplotlib.image.AxesImage at 0x7ff1ed641ed0>"
            ]
          },
          "metadata": {
            "tags": []
          },
          "execution_count": 318
        },
        {
          "output_type": "display_data",
          "data": {
            "image/png": "[encoded data removed]",
            "text/plain": [
              "<Figure size 432x288 with 1 Axes>"
            ]
          },
          "metadata": {
            "tags": [],
            "needs_background": "light"
          }
        }
      ]
    },
    {
      "cell_type": "code",
      "metadata": {
        "colab": {
          "base_uri": "https://localhost:8080/"
        },
        "id": "6CdN-EyG1og3",
        "outputId": "f10e85fb-806f-4fa9-9909-82fd474bd339"
      },
      "source": [
        "predict_num(img)"
      ],
      "execution_count": 319,
      "outputs": [
        {
          "output_type": "stream",
          "text": [
            "Model Prediction:  5\n"
          ],
          "name": "stdout"
        }
      ]
    },
    {
      "cell_type": "code",
      "metadata": {
        "colab": {
          "base_uri": "https://localhost:8080/",
          "height": 282
        },
        "id": "qELxFw801qna",
        "outputId": "b494f431-8278-4d03-ae23-0bb6127d11d5"
      },
      "source": [
        "img = cv2.imread('num6.jpg', 0)\n",
        "img = cv2.resize(img, (28, 28))\n",
        "ret, img = cv2.threshold(img, thresh=160, maxval=255, type=cv2.THRESH_BINARY_INV)\n",
        "plt.imshow(img, cmap='gray')"
      ],
      "execution_count": 325,
      "outputs": [
        {
          "output_type": "execute_result",
          "data": {
            "text/plain": [
              "<matplotlib.image.AxesImage at 0x7ff1ed4261d0>"
            ]
          },
          "metadata": {
            "tags": []
          },
          "execution_count": 325
        },
        {
          "output_type": "display_data",
          "data": {
            "image/png": "[encoded data removed]",
            "text/plain": [
              "<Figure size 432x288 with 1 Axes>"
            ]
          },
          "metadata": {
            "tags": [],
            "needs_background": "light"
          }
        }
      ]
    },
    {
      "cell_type": "code",
      "metadata": {
        "colab": {
          "base_uri": "https://localhost:8080/"
        },
        "id": "XB5hg7dt1xLO",
        "outputId": "16fb86e1-235f-4cf0-9d22-20013a1197d0"
      },
      "source": [
        "predict_num(img)"
      ],
      "execution_count": 326,
      "outputs": [
        {
          "output_type": "stream",
          "text": [
            "Model Prediction:  6\n"
          ],
          "name": "stdout"
        }
      ]
    },
    {
      "cell_type": "code",
      "metadata": {
        "colab": {
          "base_uri": "https://localhost:8080/",
          "height": 282
        },
        "id": "SwnPBMv02Ajx",
        "outputId": "55c7b9b6-e5d6-43d2-9049-f37b2dfc7e65"
      },
      "source": [
        "img = cv2.imread('num7.jpg', 0)\n",
        "img = cv2.resize(img, (28, 28))\n",
        "ret, img = cv2.threshold(img, thresh=80, maxval=255, type=cv2.THRESH_BINARY_INV)\n",
        "plt.imshow(img, cmap='gray')"
      ],
      "execution_count": 332,
      "outputs": [
        {
          "output_type": "execute_result",
          "data": {
            "text/plain": [
              "<matplotlib.image.AxesImage at 0x7ff1ed18c590>"
            ]
          },
          "metadata": {
            "tags": []
          },
          "execution_count": 332
        },
        {
          "output_type": "display_data",
          "data": {
            "image/png": "[encoded data removed]",
            "text/plain": [
              "<Figure size 432x288 with 1 Axes>"
            ]
          },
          "metadata": {
            "tags": [],
            "needs_background": "light"
          }
        }
      ]
    },
    {
      "cell_type": "code",
      "metadata": {
        "colab": {
          "base_uri": "https://localhost:8080/"
        },
        "id": "8O7CJz5-2ICW",
        "outputId": "9b4a8482-27d4-4bb2-97d0-caf86ed38cd3"
      },
      "source": [
        "predict_num(img)"
      ],
      "execution_count": 333,
      "outputs": [
        {
          "output_type": "stream",
          "text": [
            "Model Prediction:  7\n"
          ],
          "name": "stdout"
        }
      ]
    },
    {
      "cell_type": "code",
      "metadata": {
        "colab": {
          "base_uri": "https://localhost:8080/",
          "height": 282
        },
        "id": "1NF6aSBn2XY9",
        "outputId": "247bd3c9-7d86-4fac-93e2-c2ed2c3270f5"
      },
      "source": [
        "img = cv2.imread('num8.jpg', 0)\n",
        "img = cv2.resize(img, (28, 28))\n",
        "ret, img = cv2.threshold(img, thresh=120, maxval=255, type=cv2.THRESH_BINARY_INV)\n",
        "plt.imshow(img, cmap='gray')"
      ],
      "execution_count": 334,
      "outputs": [
        {
          "output_type": "execute_result",
          "data": {
            "text/plain": [
              "<matplotlib.image.AxesImage at 0x7ff1ed156b90>"
            ]
          },
          "metadata": {
            "tags": []
          },
          "execution_count": 334
        },
        {
          "output_type": "display_data",
          "data": {
            "image/png": "[encoded data removed]",
            "text/plain": [
              "<Figure size 432x288 with 1 Axes>"
            ]
          },
          "metadata": {
            "tags": [],
            "needs_background": "light"
          }
        }
      ]
    },
    {
      "cell_type": "code",
      "metadata": {
        "colab": {
          "base_uri": "https://localhost:8080/"
        },
        "id": "T6t9q_oB2br1",
        "outputId": "de650912-2a1b-4062-a9d8-e7aab4234241"
      },
      "source": [
        "predict_num(img)"
      ],
      "execution_count": 335,
      "outputs": [
        {
          "output_type": "stream",
          "text": [
            "Model Prediction:  8\n"
          ],
          "name": "stdout"
        }
      ]
    },
    {
      "cell_type": "code",
      "metadata": {
        "colab": {
          "base_uri": "https://localhost:8080/",
          "height": 282
        },
        "id": "L1sHZ3Sn2fG8",
        "outputId": "7f6ef3a5-50d8-4f46-a4d9-2c3ec8d06972"
      },
      "source": [
        "img = cv2.imread('num9.jpg', 0)\n",
        "img = cv2.resize(img, (28, 28))\n",
        "ret, img = cv2.threshold(img, thresh=123, maxval=255, type=cv2.THRESH_BINARY_INV)\n",
        "plt.imshow(img, cmap='gray')"
      ],
      "execution_count": 339,
      "outputs": [
        {
          "output_type": "execute_result",
          "data": {
            "text/plain": [
              "<matplotlib.image.AxesImage at 0x7ff1ecf811d0>"
            ]
          },
          "metadata": {
            "tags": []
          },
          "execution_count": 339
        },
        {
          "output_type": "display_data",
          "data": {
            "image/png": "[encoded data removed]",
            "text/plain": [
              "<Figure size 432x288 with 1 Axes>"
            ]
          },
          "metadata": {
            "tags": [],
            "needs_background": "light"
          }
        }
      ]
    },
    {
      "cell_type": "code",
      "metadata": {
        "colab": {
          "base_uri": "https://localhost:8080/"
        },
        "id": "ib0NbTqh2l0o",
        "outputId": "e10d222a-6ef2-4977-bbd5-f26cfc41e64a"
      },
      "source": [
        "predict_num(img)"
      ],
      "execution_count": 340,
      "outputs": [
        {
          "output_type": "stream",
          "text": [
            "Model Prediction:  9\n"
          ],
          "name": "stdout"
        }
      ]
    },
    {
      "cell_type": "code",
      "metadata": {
        "colab": {
          "base_uri": "https://localhost:8080/",
          "height": 282
        },
        "id": "4priWGls2vpV",
        "outputId": "a68383c5-e19f-4445-abb2-14973dc79acb"
      },
      "source": [
        "img = cv2.imread('num0.jpg', 0)\n",
        "img = cv2.resize(img, (28, 28))\n",
        "ret, img = cv2.threshold(img, thresh=100, maxval=255, type=cv2.THRESH_BINARY_INV)\n",
        "plt.imshow(img, cmap='gray')"
      ],
      "execution_count": 361,
      "outputs": [
        {
          "output_type": "execute_result",
          "data": {
            "text/plain": [
              "<matplotlib.image.AxesImage at 0x7ff1ecab2a10>"
            ]
          },
          "metadata": {
            "tags": []
          },
          "execution_count": 361
        },
        {
          "output_type": "display_data",
          "data": {
            "image/png": "[encoded data removed]",
            "text/plain": [
              "<Figure size 432x288 with 1 Axes>"
            ]
          },
          "metadata": {
            "tags": [],
            "needs_background": "light"
          }
        }
      ]
    },
    {
      "cell_type": "code",
      "metadata": {
        "colab": {
          "base_uri": "https://localhost:8080/"
        },
        "id": "9oSJckYP21ga",
        "outputId": "64169f0c-9bf7-4798-ec81-7cc8782d7937"
      },
      "source": [
        "predict_num(img)"
      ],
      "execution_count": 362,
      "outputs": [
        {
          "output_type": "stream",
          "text": [
            "Model Prediction:  0\n"
          ],
          "name": "stdout"
        }
      ]
    },
    {
      "cell_type": "markdown",
      "metadata": {
        "id": "SRfTF8UN4iIi"
      },
      "source": [
        "# ***Thank You!***"
      ]
    }
  ]
}